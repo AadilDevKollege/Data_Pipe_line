{
  "nbformat": 4,
  "nbformat_minor": 0,
  "metadata": {
    "colab": {
      "provenance": [],
      "authorship_tag": "ABX9TyOnwfjIEzRcmNLM5gQcCuem",
      "include_colab_link": true
    },
    "kernelspec": {
      "name": "python3",
      "display_name": "Python 3"
    },
    "language_info": {
      "name": "python"
    }
  },
  "cells": [
    {
      "cell_type": "markdown",
      "metadata": {
        "id": "view-in-github",
        "colab_type": "text"
      },
      "source": [
        "<a href=\"https://colab.research.google.com/github/AadilDevKollege/Data_Pipe_line/blob/main/Data_pipe_line_final.ipynb\" target=\"_parent\"><img src=\"https://colab.research.google.com/assets/colab-badge.svg\" alt=\"Open In Colab\"/></a>"
      ]
    },
    {
      "cell_type": "code",
      "execution_count": 1,
      "metadata": {
        "colab": {
          "base_uri": "https://localhost:8080/"
        },
        "id": "DQ06IfZhfFeN",
        "outputId": "8bfac795-5029-49b7-d9e4-05fc6c5e1247"
      },
      "outputs": [
        {
          "output_type": "stream",
          "name": "stdout",
          "text": [
            "Mounted at /content/drive\n"
          ]
        }
      ],
      "source": [
        "import pandas as pd\n",
        "import os\n",
        "from google.colab import drive\n",
        "\n",
        "# ✅ STEP 1: Google Drive Mount\n",
        "drive.mount('/content/drive', force_remount=True)"
      ]
    },
    {
      "cell_type": "code",
      "source": [
        "# ✅ STEP 2: Read Google Sheet Data (WITHOUT API)\n",
        "sheet_url = \"https://docs.google.com/spreadsheets/d/e/2PACX-1vQ2znNEQY4IpmKjvx93SKEGhhgsIirh3nZQC2hfT1tGsaUHDAxOBZw_rm398sYERYSM0HQ8KSKIbIU_/pub?gid=0&single=true&output=csv\"\n",
        "df = pd.read_csv(sheet_url)\n",
        "\n",
        "# ✅ STEP 3: Set First Row as Column Headers\n",
        "df.columns = df.iloc[0]  # Set first row as headers\n",
        "df = df[1:].reset_index(drop=True)  # Remove first row\n",
        "\n",
        "# ✅ STEP 4: Filter Required Columns\n",
        "info = df.iloc[:, [1, 2, 3, 4, 5, 6, 10, 11, 12, 13, 14, 15, 16, 17, 18, 19]]\n",
        "admission = df.iloc[:, [1, 2, 3, 4, 5, 6, 10, 11, 12, 20, 21, 22, 23, 24, 25, 26]]\n",
        "course = df.iloc[:, [1, 2, 3, 4, 5, 6, 10, 11, 12, 27, 28, 29, 30, 31, 32, 33]]\n",
        "ranking = df.iloc[:, [1, 2, 3, 4, 5, 6, 10, 11, 12, 34, 35, 36, 37, 38, 39, 40]]\n",
        "placement = df.iloc[:, [1, 2, 3, 4, 5, 6, 10, 11, 12, 41, 42, 43, 44, 45, 46, 47]]\n",
        "scholarship = df.iloc[:, [1, 2, 3, 4, 5, 6, 10, 11, 12, 48, 49, 50, 51, 52, 53, 54]]\n",
        "\n",
        "# ✅ STEP 5: Append Multiple DataFrames\n",
        "master_data = pd.concat([info, admission, course, ranking, placement, scholarship], ignore_index=True)\n",
        "\n",
        "# ✅ STEP 6: Define Save Path\n",
        "folder_path = \"/content/drive/My Drive/PowerBI_Auto/\"\n",
        "save_path = os.path.join(folder_path, \"transformed_data.csv\")\n",
        "\n",
        "# ✅ STEP 7: Ensure Folder Exists\n",
        "os.makedirs(folder_path, exist_ok=True)\n",
        "\n",
        "# ✅ STEP 8: DELETE OLD FILE (IF EXISTS)\n",
        "if os.path.exists(save_path):\n",
        "    os.remove(save_path)\n",
        "    print(\"✅ Old CSV deleted.\")\n",
        "\n",
        "# ✅ STEP 9: SAVE NEW CSV FILE\n",
        "master_data.to_csv(save_path, index=False, encoding='utf-8')\n",
        "print(f\"🚀 CSV saved successfully at: {save_path}\")\n",
        "\n",
        "# ✅ STEP 10: Verify if File is Saved\n",
        "if os.path.exists(save_path):\n",
        "    print(\"🎉 File saved successfully in Google Drive!\")\n",
        "else:\n",
        "    print(\"❌ Error: File not saved! Check folder path.\")"
      ],
      "metadata": {
        "colab": {
          "base_uri": "https://localhost:8080/"
        },
        "id": "RVo1GY79fXPa",
        "outputId": "566ce50c-18f7-40db-b179-f65af49c9c95"
      },
      "execution_count": 10,
      "outputs": [
        {
          "output_type": "stream",
          "name": "stdout",
          "text": [
            "✅ Old CSV deleted.\n",
            "🚀 CSV saved successfully at: /content/drive/My Drive/PowerBI_Auto/transformed_data.csv\n",
            "🎉 File saved successfully in Google Drive!\n"
          ]
        }
      ]
    },
    {
      "cell_type": "code",
      "source": [],
      "metadata": {
        "id": "rqUTVQ_KfoXU"
      },
      "execution_count": null,
      "outputs": []
    }
  ]
}