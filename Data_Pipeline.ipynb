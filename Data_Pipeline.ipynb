{
  "nbformat": 4,
  "nbformat_minor": 0,
  "metadata": {
    "colab": {
      "provenance": [],
      "authorship_tag": "ABX9TyMyospE/v+++vgkIgiyVH0x",
      "include_colab_link": true
    },
    "kernelspec": {
      "name": "python3",
      "display_name": "Python 3"
    },
    "language_info": {
      "name": "python"
    }
  },
  "cells": [
    {
      "cell_type": "markdown",
      "metadata": {
        "id": "view-in-github",
        "colab_type": "text"
      },
      "source": [
        "<a href=\"https://colab.research.google.com/github/AadilDevKollege/Data_Pipe_line/blob/Data_Pipeline/Data_Pipeline.ipynb\" target=\"_parent\"><img src=\"https://colab.research.google.com/assets/colab-badge.svg\" alt=\"Open In Colab\"/></a>"
      ]
    },
    {
      "cell_type": "code",
      "execution_count": 2,
      "metadata": {
        "colab": {
          "base_uri": "https://localhost:8080/"
        },
        "id": "AxBATBe3jZlT",
        "outputId": "52d49c26-3fe3-43d5-a89a-64b97eeb8084"
      },
      "outputs": [
        {
          "output_type": "stream",
          "name": "stdout",
          "text": [
            "Drive already mounted at /content/drive; to attempt to forcibly remount, call drive.mount(\"/content/drive\", force_remount=True).\n"
          ]
        }
      ],
      "source": [
        "from google.colab import drive\n",
        "drive.mount('/content/drive')"
      ]
    },
    {
      "cell_type": "code",
      "source": [
        "import pandas as pd\n",
        "import os\n",
        "\n",
        "sheet_url=\"https://docs.google.com/spreadsheets/d/e/2PACX-1vQ2znNEQY4IpmKjvx93SKEGhhgsIirh3nZQC2hfT1tGsaUHDAxOBZw_rm398sYERYSM0HQ8KSKIbIU_/pub?gid=0&single=true&output=csv\"\n",
        "df = pd.read_csv(sheet_url)\n",
        "# Convert first row to header\n",
        "df.columns = df.iloc[0]  # Set the first row as column names\n",
        "df = df[1:].reset_index(drop=True)  # Remove the first row and reset index\n",
        "\n",
        "data = pd.DataFrame(df)\n",
        "info=selected_columns = data.iloc[:, [1, 2,3,4,5,6,10,11,12,13,14,15,16,17,18,19]]\n",
        "admission=selected_columns = data.iloc[:, [1, 2,3,4,5,6,10,11,12,20,21,22,23,24,25,26]]\n",
        "course=selected_columns = data.iloc[:, [1, 2,3,4,5,6,10,11,12,27,28,29,30,31,32,33]]\n",
        "ranking=selected_columns = data.iloc[:, [1, 2,3,4,5,6,10,11,12,34,35,36,37,38,39,40]]\n",
        "placement=selected_columns = data.iloc[:, [1, 2,3,4,5,6,10,11,12,41,42,43,44,45,46,47]]\n",
        "scholarship=selected_columns = data.iloc[:, [1, 2,3,4,5,6,10,11,12,48,49,50,51,52,53,54]]\n",
        "\n",
        "# Append multiple DataFrames\n",
        "master_data = pd.concat([info, admission, course,ranking,placement,scholarship], ignore_index=True)\n",
        "\n",
        "# Create the directory if it doesn't exist\n",
        "save_path = '/content/drive/My Drive/PowerBI_Auto/transformed_data.csv'\n",
        "os.makedirs(os.path.dirname(save_path), exist_ok=True)\n",
        "\n",
        "# Now save the file\n",
        "master_data.to_csv(save_path, index=False)\n",
        "print(\"CSV saved successfully in Google Drive\")"
      ],
      "metadata": {
        "colab": {
          "base_uri": "https://localhost:8080/"
        },
        "id": "Q0l5NARxj0PX",
        "outputId": "98799756-f6e8-42e8-b974-ea4792df81ef"
      },
      "execution_count": 27,
      "outputs": [
        {
          "output_type": "stream",
          "name": "stdout",
          "text": [
            "CSV saved successfully in Google Drive\n"
          ]
        }
      ]
    },
    {
      "cell_type": "code",
      "source": [],
      "metadata": {
        "colab": {
          "base_uri": "https://localhost:8080/"
        },
        "id": "hzwvYFGHk7hj",
        "outputId": "a13ced39-c367-45b0-db92-cd809e3822a8"
      },
      "execution_count": 21,
      "outputs": [
        {
          "output_type": "stream",
          "name": "stdout",
          "text": [
            "0    College_ID                                       College_Name  \\\n",
            "0       7000208        Government College of Engineering, Amravati   \n",
            "1       7000215       Government College of Engineering Aurangabad   \n",
            "2       7000227          Government College of Engineering, Nagpur   \n",
            "3       7000302             Government College of Technology (GCT)   \n",
            "4       7000839        Government Engineering College, Barton Hill   \n",
            "...         ...                                                ...   \n",
            "4644    7013515      Malla Reddy University - Powered by Emversity   \n",
            "4645    7030059        Arka Jain University - Powered by Emversity   \n",
            "4646    7042037  Yenepoya (Deemed-to-be University) Bangalore -...   \n",
            "4647    7050771                                Emversity Bangalore   \n",
            "4648    7033914  Centre for Distance and Online Education (CDOE...   \n",
            "\n",
            "0                City_Name            Location       Stream  \\\n",
            "0                 Amravati            Amravati   Technology   \n",
            "1               Aurangabad          Aurangabad  Engineering   \n",
            "2                   Nagpur              Nagpur  Engineering   \n",
            "3               Coimbatore          Coimbatore  Engineering   \n",
            "4       Thiruvananthapuram  Thiruvananthapuram  Engineering   \n",
            "...                    ...                 ...          ...   \n",
            "4644  Hyderabad, Telangana                 NaN          NaN   \n",
            "4645             Bangalore                 NaN          NaN   \n",
            "4646             Bangalore                 NaN          NaN   \n",
            "4647                   NaN                 NaN          NaN   \n",
            "4648                   NaN                 NaN          NaN   \n",
            "\n",
            "0       Type_of_College is_university  \\\n",
            "0     Public/Government         FALSE   \n",
            "1     Public/Government         FALSE   \n",
            "2     Public/Government         FALSE   \n",
            "3     Public/Government         FALSE   \n",
            "4     Public/Government         FALSE   \n",
            "...                 ...           ...   \n",
            "4644                NaN           NaN   \n",
            "4645                NaN           NaN   \n",
            "4646                NaN           NaN   \n",
            "4647                NaN           NaN   \n",
            "4648                NaN           NaN   \n",
            "\n",
            "0                                              Kapp_Url College Status  \\\n",
            "0     https://www.kollegeapply.com/colleges/governme...           Live   \n",
            "1     https://www.kollegeapply.com/colleges/governme...           Live   \n",
            "2     https://www.kollegeapply.com/colleges/governme...           Live   \n",
            "3     https://www.kollegeapply.com/colleges/governme...           Live   \n",
            "4     https://www.kollegeapply.com/colleges/governme...           Live   \n",
            "...                                                 ...            ...   \n",
            "4644  https://www.kollegeapply.com/colleges/malla-re...  To be created   \n",
            "4645  https://www.kollegeapply.com/colleges/arka-jai...  To be created   \n",
            "4646  https://www.kollegeapply.com/colleges/yenepoya...  To be created   \n",
            "4647  https://www.kollegeapply.com/colleges/emversit...            NaN   \n",
            "4648  https://www.kollegeapply.com/colleges/emversit...            NaN   \n",
            "\n",
            "0       Status Assigned To Assigned On Submitted On Doc Link Published By  \\\n",
            "0     Uploaded         NaN         NaN          NaN      NaN          NaN   \n",
            "1     Uploaded         NaN         NaN          NaN      NaN          NaN   \n",
            "2     Uploaded         NaN         NaN          NaN      NaN       Yogesh   \n",
            "3     Uploaded         NaN         NaN          NaN      NaN        Mohit   \n",
            "4     Uploaded         NaN         NaN          NaN      NaN          NaN   \n",
            "...        ...         ...         ...          ...      ...          ...   \n",
            "4644       NaN         NaN         NaN          NaN      NaN          NaN   \n",
            "4645       NaN         NaN         NaN          NaN      NaN          NaN   \n",
            "4646       NaN         NaN         NaN          NaN      NaN          NaN   \n",
            "4647       NaN         NaN         NaN          NaN      NaN          NaN   \n",
            "4648       NaN         NaN         NaN          NaN      NaN          NaN   \n",
            "\n",
            "0    Published On Status   \n",
            "0             NaN     NaN  \n",
            "1             NaN     NaN  \n",
            "2     20-Dec-2024     NaN  \n",
            "3      4-Dec-2024     NaN  \n",
            "4             NaN     NaN  \n",
            "...           ...     ...  \n",
            "4644          NaN     NaN  \n",
            "4645          NaN     NaN  \n",
            "4646          NaN     NaN  \n",
            "4647          NaN     NaN  \n",
            "4648          NaN     NaN  \n",
            "\n",
            "[27894 rows x 17 columns]\n"
          ]
        }
      ]
    },
    {
      "cell_type": "code",
      "source": [],
      "metadata": {
        "id": "LnC7dL5goG5L"
      },
      "execution_count": null,
      "outputs": []
    }
  ]
}